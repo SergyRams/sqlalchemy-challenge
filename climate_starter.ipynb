{
 "cells": [
  {
   "cell_type": "code",
   "execution_count": 5,
   "metadata": {},
   "outputs": [],
   "source": [
    "%matplotlib inline\n",
    "import matplotlib.pyplot as plt\n",
    "from matplotlib import style\n",
    "style.use('fivethirtyeight')\n",
    "from sqlalchemy import create_engine\n",
    "\n",
    "# SQLAlchemy\n",
    "from sqlalchemy import create_engine, inspect"
   ]
  },
  {
   "cell_type": "code",
   "execution_count": 6,
   "metadata": {},
   "outputs": [],
   "source": [
    "import numpy as np\n",
    "import pandas as pd\n",
    "import datetime as dt\n",
    "\n",
    "#@event.listens_for(Engine, \"connect\")\n",
    "#def set_sqlite_pragma(dbapi_connection, connection_record):\n",
    "#    cursor = dbapi_connection.cursor()\n",
    "#    cursor.execute(\"PRAGMA foreign_keys=ON\")\n",
    "#    cursor.close()"
   ]
  },
  {
   "cell_type": "code",
   "execution_count": 7,
   "metadata": {},
   "outputs": [
    {
     "data": {
      "text/html": [
       "<div>\n",
       "<style scoped>\n",
       "    .dataframe tbody tr th:only-of-type {\n",
       "        vertical-align: middle;\n",
       "    }\n",
       "\n",
       "    .dataframe tbody tr th {\n",
       "        vertical-align: top;\n",
       "    }\n",
       "\n",
       "    .dataframe thead th {\n",
       "        text-align: right;\n",
       "    }\n",
       "</style>\n",
       "<table border=\"1\" class=\"dataframe\">\n",
       "  <thead>\n",
       "    <tr style=\"text-align: right;\">\n",
       "      <th></th>\n",
       "      <th>station</th>\n",
       "      <th>date</th>\n",
       "      <th>prcp</th>\n",
       "      <th>tobs</th>\n",
       "    </tr>\n",
       "  </thead>\n",
       "  <tbody>\n",
       "    <tr>\n",
       "      <th>0</th>\n",
       "      <td>USC00519397</td>\n",
       "      <td>2010-01-01</td>\n",
       "      <td>0.08</td>\n",
       "      <td>65</td>\n",
       "    </tr>\n",
       "    <tr>\n",
       "      <th>1</th>\n",
       "      <td>USC00519397</td>\n",
       "      <td>2010-01-02</td>\n",
       "      <td>0</td>\n",
       "      <td>63</td>\n",
       "    </tr>\n",
       "    <tr>\n",
       "      <th>2</th>\n",
       "      <td>USC00519397</td>\n",
       "      <td>2010-01-03</td>\n",
       "      <td>0</td>\n",
       "      <td>74</td>\n",
       "    </tr>\n",
       "    <tr>\n",
       "      <th>3</th>\n",
       "      <td>USC00519397</td>\n",
       "      <td>2010-01-04</td>\n",
       "      <td>0</td>\n",
       "      <td>76</td>\n",
       "    </tr>\n",
       "    <tr>\n",
       "      <th>4</th>\n",
       "      <td>USC00519397</td>\n",
       "      <td>2010-01-06</td>\n",
       "      <td></td>\n",
       "      <td>73</td>\n",
       "    </tr>\n",
       "    <tr>\n",
       "      <th>...</th>\n",
       "      <td>...</td>\n",
       "      <td>...</td>\n",
       "      <td>...</td>\n",
       "      <td>...</td>\n",
       "    </tr>\n",
       "    <tr>\n",
       "      <th>19545</th>\n",
       "      <td>USC00516128</td>\n",
       "      <td>2017-08-19</td>\n",
       "      <td>0.09</td>\n",
       "      <td>71</td>\n",
       "    </tr>\n",
       "    <tr>\n",
       "      <th>19546</th>\n",
       "      <td>USC00516128</td>\n",
       "      <td>2017-08-20</td>\n",
       "      <td></td>\n",
       "      <td>78</td>\n",
       "    </tr>\n",
       "    <tr>\n",
       "      <th>19547</th>\n",
       "      <td>USC00516128</td>\n",
       "      <td>2017-08-21</td>\n",
       "      <td>0.56</td>\n",
       "      <td>76</td>\n",
       "    </tr>\n",
       "    <tr>\n",
       "      <th>19548</th>\n",
       "      <td>USC00516128</td>\n",
       "      <td>2017-08-22</td>\n",
       "      <td>0.5</td>\n",
       "      <td>76</td>\n",
       "    </tr>\n",
       "    <tr>\n",
       "      <th>19549</th>\n",
       "      <td>USC00516128</td>\n",
       "      <td>2017-08-23</td>\n",
       "      <td>0.45</td>\n",
       "      <td>76</td>\n",
       "    </tr>\n",
       "  </tbody>\n",
       "</table>\n",
       "<p>19550 rows × 4 columns</p>\n",
       "</div>"
      ],
      "text/plain": [
       "           station        date  prcp tobs\n",
       "0      USC00519397  2010-01-01  0.08   65\n",
       "1      USC00519397  2010-01-02     0   63\n",
       "2      USC00519397  2010-01-03     0   74\n",
       "3      USC00519397  2010-01-04     0   76\n",
       "4      USC00519397  2010-01-06         73\n",
       "...            ...         ...   ...  ...\n",
       "19545  USC00516128  2017-08-19  0.09   71\n",
       "19546  USC00516128  2017-08-20         78\n",
       "19547  USC00516128  2017-08-21  0.56   76\n",
       "19548  USC00516128  2017-08-22   0.5   76\n",
       "19549  USC00516128  2017-08-23  0.45   76\n",
       "\n",
       "[19550 rows x 4 columns]"
      ]
     },
     "execution_count": 7,
     "metadata": {},
     "output_type": "execute_result"
    }
   ],
   "source": [
    "SERVER ='DESKTOP-0ABL0L6'\n",
    "DATABASE ='DATA_EXTRACT_FROM_CV'\n",
    "DRIVER = 'ODBC Driver 17 for SQL Server'\n",
    "#'SQL Server Native Client 11.0'\n",
    "#USERNAME='SQL Server 15.0.2070.41 - DESKTOP-0ABL0L6\\JERRY'\n",
    "#PASSWORD= '.'\n",
    "DATABASE_CONNECTION = f'mssql://@{SERVER}/{DATABASE}?driver={DRIVER}'\n",
    "#DATABASE_CONNECTION = f'mssql://{USERNAME}:{PASSWORD}@{SERVER}/{DATABASE}?driver={DRIVER}'\n",
    "engine = create_engine(DATABASE_CONNECTION)\n",
    "CON = engine.connect()\n",
    "df = pd.read_sql_query('select * from [dbo].[hawaii_measurements]',CON)\n",
    "df"
   ]
  },
  {
   "cell_type": "code",
   "execution_count": 8,
   "metadata": {},
   "outputs": [
    {
     "data": {
      "text/html": [
       "<div>\n",
       "<style scoped>\n",
       "    .dataframe tbody tr th:only-of-type {\n",
       "        vertical-align: middle;\n",
       "    }\n",
       "\n",
       "    .dataframe tbody tr th {\n",
       "        vertical-align: top;\n",
       "    }\n",
       "\n",
       "    .dataframe thead th {\n",
       "        text-align: right;\n",
       "    }\n",
       "</style>\n",
       "<table border=\"1\" class=\"dataframe\">\n",
       "  <thead>\n",
       "    <tr style=\"text-align: right;\">\n",
       "      <th></th>\n",
       "      <th>station</th>\n",
       "      <th>name</th>\n",
       "      <th>latitude</th>\n",
       "      <th>longitude</th>\n",
       "      <th>elevation</th>\n",
       "    </tr>\n",
       "  </thead>\n",
       "  <tbody>\n",
       "    <tr>\n",
       "      <th>0</th>\n",
       "      <td>USC00519397</td>\n",
       "      <td>\"WAIKIKI 717.2</td>\n",
       "      <td>HI US\"</td>\n",
       "      <td>21.2716</td>\n",
       "      <td>-157.8168,3</td>\n",
       "    </tr>\n",
       "    <tr>\n",
       "      <th>1</th>\n",
       "      <td>USC00513117</td>\n",
       "      <td>\"KANEOHE 838.1</td>\n",
       "      <td>HI US\"</td>\n",
       "      <td>21.4234</td>\n",
       "      <td>-157.8015,14.6</td>\n",
       "    </tr>\n",
       "    <tr>\n",
       "      <th>2</th>\n",
       "      <td>USC00514830</td>\n",
       "      <td>\"KUALOA RANCH HEADQUARTERS 886.9</td>\n",
       "      <td>HI US\"</td>\n",
       "      <td>21.5213</td>\n",
       "      <td>-157.8374,7</td>\n",
       "    </tr>\n",
       "    <tr>\n",
       "      <th>3</th>\n",
       "      <td>USC00517948</td>\n",
       "      <td>\"PEARL CITY</td>\n",
       "      <td>HI US\"</td>\n",
       "      <td>21.3934</td>\n",
       "      <td>-157.9751,11.9</td>\n",
       "    </tr>\n",
       "    <tr>\n",
       "      <th>4</th>\n",
       "      <td>USC00518838</td>\n",
       "      <td>\"UPPER WAHIAWA 874.3</td>\n",
       "      <td>HI US\"</td>\n",
       "      <td>21.4992</td>\n",
       "      <td>-158.0111,306.6</td>\n",
       "    </tr>\n",
       "    <tr>\n",
       "      <th>5</th>\n",
       "      <td>USC00519523</td>\n",
       "      <td>\"WAIMANALO EXPERIMENTAL FARM</td>\n",
       "      <td>HI US\"</td>\n",
       "      <td>21.33556</td>\n",
       "      <td>-157.71139,19.5</td>\n",
       "    </tr>\n",
       "    <tr>\n",
       "      <th>6</th>\n",
       "      <td>USC00519281</td>\n",
       "      <td>\"WAIHEE 837.5</td>\n",
       "      <td>HI US\"</td>\n",
       "      <td>21.45167</td>\n",
       "      <td>-157.84889,32.9</td>\n",
       "    </tr>\n",
       "    <tr>\n",
       "      <th>7</th>\n",
       "      <td>USC00511918</td>\n",
       "      <td>\"HONOLULU OBSERVATORY 702.2</td>\n",
       "      <td>HI US\"</td>\n",
       "      <td>21.3152</td>\n",
       "      <td>-157.9992,0.9</td>\n",
       "    </tr>\n",
       "    <tr>\n",
       "      <th>8</th>\n",
       "      <td>USC00516128</td>\n",
       "      <td>\"MANOA LYON ARBO 785.2</td>\n",
       "      <td>HI US\"</td>\n",
       "      <td>21.3331</td>\n",
       "      <td>-157.8025,152.4</td>\n",
       "    </tr>\n",
       "  </tbody>\n",
       "</table>\n",
       "</div>"
      ],
      "text/plain": [
       "       station                              name latitude longitude  \\\n",
       "0  USC00519397                    \"WAIKIKI 717.2   HI US\"   21.2716   \n",
       "1  USC00513117                    \"KANEOHE 838.1   HI US\"   21.4234   \n",
       "2  USC00514830  \"KUALOA RANCH HEADQUARTERS 886.9   HI US\"   21.5213   \n",
       "3  USC00517948                       \"PEARL CITY   HI US\"   21.3934   \n",
       "4  USC00518838              \"UPPER WAHIAWA 874.3   HI US\"   21.4992   \n",
       "5  USC00519523      \"WAIMANALO EXPERIMENTAL FARM   HI US\"  21.33556   \n",
       "6  USC00519281                     \"WAIHEE 837.5   HI US\"  21.45167   \n",
       "7  USC00511918       \"HONOLULU OBSERVATORY 702.2   HI US\"   21.3152   \n",
       "8  USC00516128            \"MANOA LYON ARBO 785.2   HI US\"   21.3331   \n",
       "\n",
       "         elevation  \n",
       "0      -157.8168,3  \n",
       "1   -157.8015,14.6  \n",
       "2      -157.8374,7  \n",
       "3   -157.9751,11.9  \n",
       "4  -158.0111,306.6  \n",
       "5  -157.71139,19.5  \n",
       "6  -157.84889,32.9  \n",
       "7    -157.9992,0.9  \n",
       "8  -157.8025,152.4  "
      ]
     },
     "execution_count": 8,
     "metadata": {},
     "output_type": "execute_result"
    }
   ],
   "source": [
    "st = pd.read_sql_query('select * from [dbo].[hawaii_stations]',CON)\n",
    "st"
   ]
  },
  {
   "cell_type": "code",
   "execution_count": 49,
   "metadata": {},
   "outputs": [
    {
     "data": {
      "text/html": [
       "<div>\n",
       "<style scoped>\n",
       "    .dataframe tbody tr th:only-of-type {\n",
       "        vertical-align: middle;\n",
       "    }\n",
       "\n",
       "    .dataframe tbody tr th {\n",
       "        vertical-align: top;\n",
       "    }\n",
       "\n",
       "    .dataframe thead th {\n",
       "        text-align: right;\n",
       "    }\n",
       "</style>\n",
       "<table border=\"1\" class=\"dataframe\">\n",
       "  <thead>\n",
       "    <tr style=\"text-align: right;\">\n",
       "      <th></th>\n",
       "      <th>station</th>\n",
       "      <th>date</th>\n",
       "      <th>prcp</th>\n",
       "      <th>tobs</th>\n",
       "      <th>station</th>\n",
       "      <th>name</th>\n",
       "      <th>latitude</th>\n",
       "      <th>longitude</th>\n",
       "      <th>elevation</th>\n",
       "    </tr>\n",
       "  </thead>\n",
       "  <tbody>\n",
       "    <tr>\n",
       "      <th>0</th>\n",
       "      <td>USC00519397</td>\n",
       "      <td>2010-01-01</td>\n",
       "      <td>0.08</td>\n",
       "      <td>65</td>\n",
       "      <td>USC00519397</td>\n",
       "      <td>\"WAIKIKI 717.2</td>\n",
       "      <td>HI US\"</td>\n",
       "      <td>21.2716</td>\n",
       "      <td>-157.8168,3</td>\n",
       "    </tr>\n",
       "    <tr>\n",
       "      <th>1</th>\n",
       "      <td>USC00519397</td>\n",
       "      <td>2010-01-02</td>\n",
       "      <td>0</td>\n",
       "      <td>63</td>\n",
       "      <td>USC00519397</td>\n",
       "      <td>\"WAIKIKI 717.2</td>\n",
       "      <td>HI US\"</td>\n",
       "      <td>21.2716</td>\n",
       "      <td>-157.8168,3</td>\n",
       "    </tr>\n",
       "    <tr>\n",
       "      <th>2</th>\n",
       "      <td>USC00519397</td>\n",
       "      <td>2010-01-03</td>\n",
       "      <td>0</td>\n",
       "      <td>74</td>\n",
       "      <td>USC00519397</td>\n",
       "      <td>\"WAIKIKI 717.2</td>\n",
       "      <td>HI US\"</td>\n",
       "      <td>21.2716</td>\n",
       "      <td>-157.8168,3</td>\n",
       "    </tr>\n",
       "    <tr>\n",
       "      <th>3</th>\n",
       "      <td>USC00519397</td>\n",
       "      <td>2010-01-04</td>\n",
       "      <td>0</td>\n",
       "      <td>76</td>\n",
       "      <td>USC00519397</td>\n",
       "      <td>\"WAIKIKI 717.2</td>\n",
       "      <td>HI US\"</td>\n",
       "      <td>21.2716</td>\n",
       "      <td>-157.8168,3</td>\n",
       "    </tr>\n",
       "    <tr>\n",
       "      <th>4</th>\n",
       "      <td>USC00519397</td>\n",
       "      <td>2010-01-06</td>\n",
       "      <td></td>\n",
       "      <td>73</td>\n",
       "      <td>USC00519397</td>\n",
       "      <td>\"WAIKIKI 717.2</td>\n",
       "      <td>HI US\"</td>\n",
       "      <td>21.2716</td>\n",
       "      <td>-157.8168,3</td>\n",
       "    </tr>\n",
       "    <tr>\n",
       "      <th>...</th>\n",
       "      <td>...</td>\n",
       "      <td>...</td>\n",
       "      <td>...</td>\n",
       "      <td>...</td>\n",
       "      <td>...</td>\n",
       "      <td>...</td>\n",
       "      <td>...</td>\n",
       "      <td>...</td>\n",
       "      <td>...</td>\n",
       "    </tr>\n",
       "    <tr>\n",
       "      <th>19545</th>\n",
       "      <td>USC00516128</td>\n",
       "      <td>2017-08-19</td>\n",
       "      <td>0.09</td>\n",
       "      <td>71</td>\n",
       "      <td>USC00516128</td>\n",
       "      <td>\"MANOA LYON ARBO 785.2</td>\n",
       "      <td>HI US\"</td>\n",
       "      <td>21.3331</td>\n",
       "      <td>-157.8025,152.4</td>\n",
       "    </tr>\n",
       "    <tr>\n",
       "      <th>19546</th>\n",
       "      <td>USC00516128</td>\n",
       "      <td>2017-08-20</td>\n",
       "      <td></td>\n",
       "      <td>78</td>\n",
       "      <td>USC00516128</td>\n",
       "      <td>\"MANOA LYON ARBO 785.2</td>\n",
       "      <td>HI US\"</td>\n",
       "      <td>21.3331</td>\n",
       "      <td>-157.8025,152.4</td>\n",
       "    </tr>\n",
       "    <tr>\n",
       "      <th>19547</th>\n",
       "      <td>USC00516128</td>\n",
       "      <td>2017-08-21</td>\n",
       "      <td>0.56</td>\n",
       "      <td>76</td>\n",
       "      <td>USC00516128</td>\n",
       "      <td>\"MANOA LYON ARBO 785.2</td>\n",
       "      <td>HI US\"</td>\n",
       "      <td>21.3331</td>\n",
       "      <td>-157.8025,152.4</td>\n",
       "    </tr>\n",
       "    <tr>\n",
       "      <th>19548</th>\n",
       "      <td>USC00516128</td>\n",
       "      <td>2017-08-22</td>\n",
       "      <td>0.5</td>\n",
       "      <td>76</td>\n",
       "      <td>USC00516128</td>\n",
       "      <td>\"MANOA LYON ARBO 785.2</td>\n",
       "      <td>HI US\"</td>\n",
       "      <td>21.3331</td>\n",
       "      <td>-157.8025,152.4</td>\n",
       "    </tr>\n",
       "    <tr>\n",
       "      <th>19549</th>\n",
       "      <td>USC00516128</td>\n",
       "      <td>2017-08-23</td>\n",
       "      <td>0.45</td>\n",
       "      <td>76</td>\n",
       "      <td>USC00516128</td>\n",
       "      <td>\"MANOA LYON ARBO 785.2</td>\n",
       "      <td>HI US\"</td>\n",
       "      <td>21.3331</td>\n",
       "      <td>-157.8025,152.4</td>\n",
       "    </tr>\n",
       "  </tbody>\n",
       "</table>\n",
       "<p>19550 rows × 9 columns</p>\n",
       "</div>"
      ],
      "text/plain": [
       "           station        date  prcp tobs      station  \\\n",
       "0      USC00519397  2010-01-01  0.08   65  USC00519397   \n",
       "1      USC00519397  2010-01-02     0   63  USC00519397   \n",
       "2      USC00519397  2010-01-03     0   74  USC00519397   \n",
       "3      USC00519397  2010-01-04     0   76  USC00519397   \n",
       "4      USC00519397  2010-01-06         73  USC00519397   \n",
       "...            ...         ...   ...  ...          ...   \n",
       "19545  USC00516128  2017-08-19  0.09   71  USC00516128   \n",
       "19546  USC00516128  2017-08-20         78  USC00516128   \n",
       "19547  USC00516128  2017-08-21  0.56   76  USC00516128   \n",
       "19548  USC00516128  2017-08-22   0.5   76  USC00516128   \n",
       "19549  USC00516128  2017-08-23  0.45   76  USC00516128   \n",
       "\n",
       "                         name latitude longitude        elevation  \n",
       "0              \"WAIKIKI 717.2   HI US\"   21.2716      -157.8168,3  \n",
       "1              \"WAIKIKI 717.2   HI US\"   21.2716      -157.8168,3  \n",
       "2              \"WAIKIKI 717.2   HI US\"   21.2716      -157.8168,3  \n",
       "3              \"WAIKIKI 717.2   HI US\"   21.2716      -157.8168,3  \n",
       "4              \"WAIKIKI 717.2   HI US\"   21.2716      -157.8168,3  \n",
       "...                       ...      ...       ...              ...  \n",
       "19545  \"MANOA LYON ARBO 785.2   HI US\"   21.3331  -157.8025,152.4  \n",
       "19546  \"MANOA LYON ARBO 785.2   HI US\"   21.3331  -157.8025,152.4  \n",
       "19547  \"MANOA LYON ARBO 785.2   HI US\"   21.3331  -157.8025,152.4  \n",
       "19548  \"MANOA LYON ARBO 785.2   HI US\"   21.3331  -157.8025,152.4  \n",
       "19549  \"MANOA LYON ARBO 785.2   HI US\"   21.3331  -157.8025,152.4  \n",
       "\n",
       "[19550 rows x 9 columns]"
      ]
     },
     "execution_count": 49,
     "metadata": {},
     "output_type": "execute_result"
    }
   ],
   "source": [
    "# reflect an existing database into a new model\n",
    "# reflect the tables\n",
    "ms = pd.read_sql_query('select * from [dbo].[hawaii_measurements] hm inner join [dbo].[hawaii_stations] hs on hm.station = hs.station',CON)\n",
    "ms"
   ]
  },
  {
   "cell_type": "markdown",
   "metadata": {},
   "source": [
    "# Reflect Tables into SQLAlchemy ORM"
   ]
  },
  {
   "cell_type": "code",
   "execution_count": 10,
   "metadata": {},
   "outputs": [],
   "source": [
    "# Python SQL toolkit and Object Relational Mapper\n",
    "import sqlalchemy\n",
    "from sqlalchemy.ext.automap import automap_base\n",
    "from sqlalchemy.orm import Session\n",
    "from sqlalchemy import create_engine,inspect, func\n",
    "from sqlalchemy.orm import Session"
   ]
  },
  {
   "cell_type": "code",
   "execution_count": 106,
   "metadata": {},
   "outputs": [],
   "source": [
    "# Path to sqlite\n",
    "# Create an engine that can talk to the database\n",
    "engine = create_engine(\"sqlite:///Resources/hawaii.sqlite\", echo= False)"
   ]
  },
  {
   "cell_type": "code",
   "execution_count": 56,
   "metadata": {},
   "outputs": [
    {
     "data": {
      "text/plain": [
       "['measurement', 'station']"
      ]
     },
     "execution_count": 56,
     "metadata": {},
     "output_type": "execute_result"
    }
   ],
   "source": [
    "inspector = inspect(engine)\n",
    "inspector.get_table_names()"
   ]
  },
  {
   "cell_type": "code",
   "execution_count": 47,
   "metadata": {},
   "outputs": [],
   "source": [
    "session = Session(engine)\n",
    "#for row in session.query()"
   ]
  },
  {
   "cell_type": "code",
   "execution_count": 14,
   "metadata": {},
   "outputs": [
    {
     "name": "stdout",
     "output_type": "stream",
     "text": [
      "<sqlalchemy.engine.result.ResultProxy object at 0x000002538037BF88>\n"
     ]
    }
   ],
   "source": [
    "data = engine.execute(\"SELECT * FROM measurement LIMIT 15\")\n",
    "#for hawaii in data:\n",
    "#    print(hawaii.measurement)\n",
    "print(data)"
   ]
  },
  {
   "cell_type": "code",
   "execution_count": 15,
   "metadata": {},
   "outputs": [
    {
     "data": {
      "text/plain": [
       "['measurement', 'station']"
      ]
     },
     "execution_count": 15,
     "metadata": {},
     "output_type": "execute_result"
    }
   ],
   "source": [
    "# We can view all of the classes that automap found\n",
    "Base = automap_base()\n",
    "Base.prepare(engine, reflect = True)\n",
    "Base.classes.keys()"
   ]
  },
  {
   "cell_type": "code",
   "execution_count": 21,
   "metadata": {},
   "outputs": [],
   "source": [
    "# Save references to each table\n",
    "# Mapping classes \n",
    "#Use SQLAlchemy automap_base() to reflect your tables into classes and save a reference to those classes called Station \n",
    "#and Measurement.\n",
    "measurement = Base.classes.measurement"
   ]
  },
  {
   "cell_type": "code",
   "execution_count": 17,
   "metadata": {},
   "outputs": [],
   "source": [
    "station = Base.classes.station"
   ]
  },
  {
   "cell_type": "code",
   "execution_count": 18,
   "metadata": {},
   "outputs": [],
   "source": [
    "# Create our session (link) from Python to the DB\n",
    "session = Session(engine)"
   ]
  },
  {
   "cell_type": "code",
   "execution_count": 30,
   "metadata": {},
   "outputs": [],
   "source": [
    "# Measurement File columns are: station, date, prcp, tobs\n",
    "# stations File columns are: station, name, latitude, longitude, elevation\n",
    "abc = session.query(measurement).filter(measurement.tobs == '60').all()\n",
    "#for "
   ]
  },
  {
   "cell_type": "markdown",
   "metadata": {},
   "source": [
    "# Exploratory Climate Analysis"
   ]
  },
  {
   "cell_type": "code",
   "execution_count": 29,
   "metadata": {},
   "outputs": [],
   "source": [
    "#df[df[\"ms.date\"].between('23/08/2017','23/02/2017')]\n",
    "#engine.execute('select * from measurement where measurement.date between '23/08/2017'and '23/02/2017'')\n",
    "#kw = pd.read_sql_query('select * from ms where date ms.between between 23/08/2017 and 23/02/2017',CON)\n",
    "#pd.read_sql_query('select * from [dbo].[hawaii_measurements] hm inner join [dbo].[hawaii_stations] hs on hm.station = hs.station where date between 23/08/2017 and 23/02/2017',CON)"
   ]
  },
  {
   "cell_type": "code",
   "execution_count": null,
   "metadata": {},
   "outputs": [],
   "source": [
    "# Use Pandas to calcualte the summary statistics for the precipitation data"
   ]
  },
  {
   "cell_type": "code",
   "execution_count": 28,
   "metadata": {},
   "outputs": [
    {
     "data": {
      "image/png": "[encoded data removed]",
      "text/plain": [
       "<Figure size 1152x648 with 1 Axes>"
      ]
     },
     "metadata": {},
     "output_type": "display_data"
    }
   ],
   "source": [
    "# Design a query to show how many stations are available in this dataset?\n",
    "\n",
    "# Design a query to retrieve the last 12 months of precipitation data and plot the results\n",
    "# Calculate the date 1 year ago from the last data point in the database\n",
    "latest_date = session.query(measurement.date).order_by(measurement.date.desc()).first()\n",
    "for index in range(len(latest_date)):\n",
    "    latest_date_str = latest_date[index]\n",
    "\n",
    "date_year_ago = dt.date(int(latest_date_str[0:4]),int(latest_date_str[5:7]),int(latest_date_str[8:10]))-dt.timedelta(days=365)\n",
    "date_year_ago\n",
    "# Perform a query to retrieve the data and precipitation scores\n",
    "precipitation = session.query(measurement.date, measurement.prcp).\\\n",
    "                filter(measurement.date >=date_year_ago).all()\n",
    "\n",
    "# Save the query results as a Pandas DataFrame and set the index to the date column\n",
    "precipitation_df = pd.DataFrame(precipitation,columns=['date', 'prcp'])\n",
    "precipitation_df['date'].apply(lambda x:dt.datetime.strptime(x, '%Y-%m-%d'))\n",
    "precipitation_df.set_index('date', inplace=True)\n",
    "\n",
    "# Sort the dataframe by date\n",
    "precipitation_df.sort_values('date',inplace=True)\n",
    "#precipitation_df.dropna(inplace=True)\n",
    "precipitation_df\n",
    "# Use Pandas Plotting with Matplotlib to plot the data\n",
    "precipitation_df.plot(title=\"Precipitation\", use_index = True, rot=90, figsize=(16,9))\n",
    "plt.tight_layout()\n",
    "plt.show()"
   ]
  },
  {
   "cell_type": "code",
   "execution_count": 55,
   "metadata": {},
   "outputs": [
    {
     "data": {
      "text/html": [
       "<div>\n",
       "<style scoped>\n",
       "    .dataframe tbody tr th:only-of-type {\n",
       "        vertical-align: middle;\n",
       "    }\n",
       "\n",
       "    .dataframe tbody tr th {\n",
       "        vertical-align: top;\n",
       "    }\n",
       "\n",
       "    .dataframe thead th {\n",
       "        text-align: right;\n",
       "    }\n",
       "</style>\n",
       "<table border=\"1\" class=\"dataframe\">\n",
       "  <thead>\n",
       "    <tr style=\"text-align: right;\">\n",
       "      <th></th>\n",
       "      <th>STATION</th>\n",
       "      <th>DS</th>\n",
       "    </tr>\n",
       "  </thead>\n",
       "  <tbody>\n",
       "    <tr>\n",
       "      <th>0</th>\n",
       "      <td>USC00519281</td>\n",
       "      <td>2772</td>\n",
       "    </tr>\n",
       "    <tr>\n",
       "      <th>1</th>\n",
       "      <td>USC00519397</td>\n",
       "      <td>2724</td>\n",
       "    </tr>\n",
       "    <tr>\n",
       "      <th>2</th>\n",
       "      <td>USC00513117</td>\n",
       "      <td>2709</td>\n",
       "    </tr>\n",
       "    <tr>\n",
       "      <th>3</th>\n",
       "      <td>USC00519523</td>\n",
       "      <td>2669</td>\n",
       "    </tr>\n",
       "    <tr>\n",
       "      <th>4</th>\n",
       "      <td>USC00516128</td>\n",
       "      <td>2612</td>\n",
       "    </tr>\n",
       "    <tr>\n",
       "      <th>5</th>\n",
       "      <td>USC00514830</td>\n",
       "      <td>2202</td>\n",
       "    </tr>\n",
       "    <tr>\n",
       "      <th>6</th>\n",
       "      <td>USC00511918</td>\n",
       "      <td>1979</td>\n",
       "    </tr>\n",
       "    <tr>\n",
       "      <th>7</th>\n",
       "      <td>USC00517948</td>\n",
       "      <td>1372</td>\n",
       "    </tr>\n",
       "    <tr>\n",
       "      <th>8</th>\n",
       "      <td>USC00518838</td>\n",
       "      <td>511</td>\n",
       "    </tr>\n",
       "  </tbody>\n",
       "</table>\n",
       "</div>"
      ],
      "text/plain": [
       "       STATION    DS\n",
       "0  USC00519281  2772\n",
       "1  USC00519397  2724\n",
       "2  USC00513117  2709\n",
       "3  USC00519523  2669\n",
       "4  USC00516128  2612\n",
       "5  USC00514830  2202\n",
       "6  USC00511918  1979\n",
       "7  USC00517948  1372\n",
       "8  USC00518838   511"
      ]
     },
     "execution_count": 55,
     "metadata": {},
     "output_type": "execute_result"
    }
   ],
   "source": [
    "# What are the most active stations? (i.e. what stations have the most rows)?\n",
    "\n",
    "# USC00519281 is the most repeated record or has the highest number of rows.\n",
    "# USC00516128 is the one with highest precipitation values.\n",
    "\n",
    "# List the stations and the counts in descending order.\n",
    "#\tRecords\tprcp\n",
    "#USC00519281\t2772\t588.64\n",
    "#USC00519397\t2724\t131.62\n",
    "#USC00513117\t2709\t3.63\n",
    "#USC00519523\t2669\t295.68\n",
    "#USC00516128\t2612\t1068.09\n",
    "#USC00514830\t2202\t234.49\n",
    "#USC00511918\t1979\t1.49\n",
    "#USC00517948\t1372\t43.44\n",
    "#USC00518838\t511\t70.87\n",
    "#data_merged.count()\n",
    "#ms.count()\n",
    "act_st = pd.read_sql_query('select STATION, count(station) AS DS from [dbo].[hawaii_measurements] group by station ORDER BY DS DESC',CON)\n",
    "act_st"
   ]
  },
  {
   "cell_type": "code",
   "execution_count": null,
   "metadata": {},
   "outputs": [],
   "source": [
    "select count(*)"
   ]
  },
  {
   "cell_type": "code",
   "execution_count": 64,
   "metadata": {},
   "outputs": [
    {
     "data": {
      "text/plain": [
       "0.00    874\n",
       "0.02    113\n",
       "0.01    100\n",
       "0.03     77\n",
       "0.06     58\n",
       "       ... \n",
       "2.11      1\n",
       "1.24      1\n",
       "1.88      1\n",
       "0.86      1\n",
       "1.80      1\n",
       "Name: prcp, Length: 160, dtype: int64"
      ]
     },
     "execution_count": 64,
     "metadata": {},
     "output_type": "execute_result"
    }
   ],
   "source": [
    "#data_merged[\"MouseID\"].value_counts()\n",
    "#pd.value_counts(ms['station'])\n",
    "precipitation_df['prcp'].value_counts()\n",
    "# Using the station id from the previous query, calculate the lowest temperature recorded, \n",
    "# highest temperature recorded, and average temperature of the most active station?\n",
    "#ms.count()"
   ]
  },
  {
   "cell_type": "code",
   "execution_count": 98,
   "metadata": {},
   "outputs": [
    {
     "name": "stdout",
     "output_type": "stream",
     "text": [
      "Temperatures Actual Minimal Value 53.0\n",
      "Temperatures Actual Maximun Value 87.0\n",
      "Temperatures Values Mean 73.1\n",
      "Temperatures Values Median 73.0\n",
      "Temperatures Values Mode 0    74.0\n",
      "dtype: float64\n",
      "Precipitation Values Mean 0.18\n",
      "Precipitation Values Median 0.02\n",
      "Precipitation Values mode 0    0.0\n",
      "dtype: float64\n",
      "Precipitation Values covariance <bound method Series.cov of 0    0.0\n",
      "dtype: float64>\n"
     ]
    }
   ],
   "source": [
    "# Choose the station with the highest number of temperature observations.\n",
    "#temperature data is not included in excel documents provided. \n",
    "\n",
    "# Query the last 12 months of temperature observation data for this station and plot the results as a histogram\n",
    "\n",
    "# Mean, median, mode for precipitation values\n",
    "prec_mean = round(precipitation_df['prcp'].astype('float').mean(), 2)\n",
    "prec_median = round(precipitation_df['prcp'].astype('float').median(), 2)\n",
    "prec_mode = round(precipitation_df['prcp'].astype('float').mode(), 2)\n",
    "\n",
    "#temperature_df = pd.DataFrame(temperature,columns=['date', 'prcp'])\n",
    "tobs_mean = round(ms['tobs'].astype('float').mean(), 2)\n",
    "tobs_median = round(ms['tobs'].astype('float').median(), 2)\n",
    "tobs_mode = round(ms['tobs'].astype('float').mode(), 2)\n",
    "\n",
    "#temperature_df = pd.DataFrame(temperature,columns=['date', 'prcp'])\n",
    "tobs_min = round(ms['tobs'].astype('float').min(), 2)\n",
    "tobs_max = round(ms['tobs'].astype('float').max(), 2)\n",
    "#tobs_mode = round(ms['tobs'].astype('float').mode(), 2)\n",
    "\n",
    "#print(f\"Temperatures Values Mean {tobs_mean}\")\n",
    "print(f\"Temperatures Actual Minimal Value {tobs_min}\")\n",
    "print(f\"Temperatures Actual Maximun Value {tobs_max}\")\n",
    "\n",
    "print(f\"Temperatures Values Mean {tobs_mean}\")\n",
    "print(f\"Temperatures Values Median {tobs_median}\")\n",
    "print(f\"Temperatures Values Mode {tobs_mode}\")\n",
    "      \n",
    "print(f\"Precipitation Values Mean {prec_mean}\")\n",
    "print(f\"Precipitation Values Median {prec_median}\")\n",
    "print(f\"Precipitation Values mode {prec_mode}\")\n",
    "print(f\"Precipitation Values covariance {prec_mode.cov}\")"
   ]
  },
  {
   "cell_type": "markdown",
   "metadata": {},
   "source": [
    "## Bonus Challenge Assignment"
   ]
  },
  {
   "cell_type": "code",
   "execution_count": 103,
   "metadata": {},
   "outputs": [
    {
     "name": "stdout",
     "output_type": "stream",
     "text": [
      "[(53.0, 73.09795396419437, 87.0)]\n"
     ]
    }
   ],
   "source": [
    "# This function called `calc_temps` will accept start date and end date in the format '%Y-%m-%d' \n",
    "# and return the minimum, average, and maximum temperatures for that range of dates\n",
    "# Use your previous function `calc_temps` to calculate the tmin, tavg, and tmax \n",
    "def calc_temps(start_date, end_date):\n",
    "    \"\"\"TMIN, TAVG, and TMAX for a list of dates.\n",
    "    \n",
    "    Args:\n",
    "        start_date (string): A date string in the format %Y-%m-%d\n",
    "        end_date (string): A date string in the format %Y-%m-%d\n",
    "        \n",
    "    Returns:\n",
    "        TMIN, TAVE, and TMAX\n",
    "    \"\"\"\n",
    "    \n",
    "    return session.query(func.min(measurement.tobs), func.avg(measurement.tobs), func.max(measurement.tobs)).\\\n",
    "        filter(measurement.date >= start_date).filter(measurement.date <= end_date).all()\n",
    "\n",
    "# function usage example\n",
    "print(calc_temps('2010-01-01', '2017-08-23'))"
   ]
  },
  {
   "cell_type": "code",
   "execution_count": 104,
   "metadata": {},
   "outputs": [
    {
     "name": "stdout",
     "output_type": "stream",
     "text": [
      "[(62.0, 69.57142857142857, 74.0)]\n"
     ]
    }
   ],
   "source": [
    "# for your trip using the previous year's data for those same dates.\n",
    "print(calc_temps('2012-02-28', '2012-03-05'))\n"
   ]
  },
  {
   "cell_type": "code",
   "execution_count": null,
   "metadata": {},
   "outputs": [],
   "source": [
    "# Plot the results from your previous query as a bar chart. \n",
    "\n",
    "x_axis = measurement.tobs.arange(len(mice_count.index))\n",
    "x_axis\n",
    "\n",
    "plt.bar(x_axis, mice_count[\"MouseID\"], color='br',align =\"center\", width= 0.8)\n",
    "\n",
    "tick_locations =[value for value in x_axis]\n",
    "plt.xticks(tick_locations, mice_count.index, rotation= \"vertical\")\n",
    "\n",
    "plt.title(\"Total mice per Treatment\")\n",
    "plt.xlabel(\"Drug Regimen\")\n",
    "plt.ylabel(\"Number of mice\")\n",
    "\n",
    "plt.show()\n",
    "\n",
    "# Use \"Trip Avg Temp\" as your Title\n",
    "# Use the average temperature for the y value\n",
    "# Use the peak-to-peak (tmax-tmin) value as the y error bar (yerr)\n"
   ]
  },
  {
   "cell_type": "code",
   "execution_count": null,
   "metadata": {},
   "outputs": [],
   "source": [
    "# Calculate the total amount of rainfall per weather station for your trip dates using the previous year's matching dates.\n",
    "# Sort this in descending order by precipitation amount and list the station, name, latitude, longitude, and elevation\n",
    "\n"
   ]
  },
  {
   "cell_type": "code",
   "execution_count": null,
   "metadata": {},
   "outputs": [],
   "source": [
    "# Create a query that will calculate the daily normals \n",
    "# (i.e. the averages for tmin, tmax, and tavg for all historic data matching a specific month and day)\n",
    "\n",
    "def daily_normals(date):\n",
    "    \"\"\"Daily Normals.\n",
    "    \n",
    "    Args:\n",
    "        date (str): A date string in the format '%m-%d'\n",
    "        \n",
    "    Returns:\n",
    "        A list of tuples containing the daily normals, tmin, tavg, and tmax\n",
    "    \n",
    "    \"\"\"\n",
    "    \n",
    "    sel = [func.min(Measurement.tobs), func.avg(Measurement.tobs), func.max(Measurement.tobs)]\n",
    "    return session.query(*sel).filter(func.strftime(\"%m-%d\", Measurement.date) == date).all()\n",
    "    \n",
    "daily_normals(\"01-01\")"
   ]
  },
  {
   "cell_type": "code",
   "execution_count": 105,
   "metadata": {},
   "outputs": [],
   "source": [
    "# calculate the daily normals for your trip\n",
    "# push each tuple of calculations into a list called `normals`\n",
    "\n",
    "# Set the start and end date of the trip\n",
    "\n",
    "# Use the start and end date to create a range of dates\n",
    "\n",
    "# Stip off the year and save a list of %m-%d strings\n",
    "\n",
    "# Loop through the list of %m-%d strings and calculate the normals for each date\n"
   ]
  },
  {
   "cell_type": "code",
   "execution_count": null,
   "metadata": {},
   "outputs": [],
   "source": [
    "# Load the previous query results into a Pandas DataFrame and add the `trip_dates` range as the `date` index\n"
   ]
  },
  {
   "cell_type": "code",
   "execution_count": null,
   "metadata": {},
   "outputs": [],
   "source": [
    "# Plot the daily normals as an area plot with `stacked=False`\n"
   ]
  }
 ],
 "metadata": {
  "kernel_info": {
   "name": "python3"
  },
  "kernelspec": {
   "display_name": "Python 3",
   "language": "python",
   "name": "python3"
  },
  "language_info": {
   "codemirror_mode": {
    "name": "ipython",
    "version": 3
   },
   "file_extension": ".py",
   "mimetype": "text/x-python",
   "name": "python",
   "nbconvert_exporter": "python",
   "pygments_lexer": "ipython3",
   "version": "3.7.6"
  },
  "nteract": {
   "version": "0.12.3"
  },
  "varInspector": {
   "cols": {
    "lenName": 16,
    "lenType": 16,
    "lenVar": 40
   },
   "kernels_config": {
    "python": {
     "delete_cmd_postfix": "",
     "delete_cmd_prefix": "del ",
     "library": "var_list.py",
     "varRefreshCmd": "print(var_dic_list())"
    },
    "r": {
     "delete_cmd_postfix": ") ",
     "delete_cmd_prefix": "rm(",
     "library": "var_list.r",
     "varRefreshCmd": "cat(var_dic_list()) "
    }
   },
   "types_to_exclude": [
    "module",
    "function",
    "builtin_function_or_method",
    "instance",
    "_Feature"
   ],
   "window_display": false
  }
 },
 "nbformat": 4,
 "nbformat_minor": 2
}
